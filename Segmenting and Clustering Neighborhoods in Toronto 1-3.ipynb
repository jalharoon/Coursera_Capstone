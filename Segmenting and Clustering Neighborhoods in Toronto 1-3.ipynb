{
 "cells": [
  {
   "cell_type": "code",
   "execution_count": 1,
   "id": "31c85d70",
   "metadata": {},
   "outputs": [],
   "source": [
    "from bs4 import BeautifulSoup\n",
    "import requests\n",
    "import pandas as pd\n",
    "import geocoder\n",
    "import folium\n",
    "import numpy as np"
   ]
  },
  {
   "cell_type": "code",
   "execution_count": 2,
   "id": "4528f5e5",
   "metadata": {},
   "outputs": [],
   "source": [
    "#Scrape the list of Canada postal codes using BeautifulSoup\n",
    "\n",
    "source = requests.get('http://zims-en.kiwix.campusafrica.gos.orange.com/wikipedia_en_all_nopic/A/List_of_postal_codes_of_Canada:_M').text\n",
    "can_html  = BeautifulSoup(source, 'xml')\n",
    "can_html = can_html.find('table')\n",
    "\n",
    "# Three columns of the table: PostalCode, Borough, and Neighborhood\n",
    "col_names = ['Postalcode', 'Borough', 'Neighborhood']\n",
    "can_df = pd.DataFrame(columns = col_names)\n",
    "\n",
    "# Search all the postcode, borough, neighborhood \n",
    "for tr_cell in can_html.find_all('tr'):\n",
    "    row_data=[]\n",
    "    for td_cell in tr_cell.find_all('td'):\n",
    "        row_data.append(td_cell.text.strip())\n",
    "    if len(row_data)==3:\n",
    "        can_df.loc[len(can_df)] = row_data"
   ]
  },
  {
   "cell_type": "code",
   "execution_count": 4,
   "id": "1ff4e4c6",
   "metadata": {},
   "outputs": [],
   "source": [
    "#Cleansing the data from not assigned cells\n",
    "\n",
    "# Clone can_df to df\n",
    "df = can_df\n",
    "\n",
    "#  Clean NA cells and cells whose `Borough` is `Not assigned`\n",
    "df = df.dropna()\n",
    "df = df[df['Borough'] != 'Not assigned']\n",
    "\n",
    "# If a cell has a borough but a Not assigned neighborhood, \n",
    "# then the neighborhood will be the same as the borough.\n",
    "not_assigned_ids = df['Neighborhood'] == 'Not assigned'\n",
    "df['Neighborhood'][not_assigned_ids] = df['Borough'][not_assigned_ids]\n",
    "\n",
    "# Replace '/' by ','\n",
    "df['Neighborhood'] = df['Neighborhood'].str.replace(' /', ',')"
   ]
  },
  {
   "cell_type": "code",
   "execution_count": 11,
   "id": "ad11ad3f",
   "metadata": {},
   "outputs": [
    {
     "data": {
      "text/html": [
       "<div>\n",
       "<style scoped>\n",
       "    .dataframe tbody tr th:only-of-type {\n",
       "        vertical-align: middle;\n",
       "    }\n",
       "\n",
       "    .dataframe tbody tr th {\n",
       "        vertical-align: top;\n",
       "    }\n",
       "\n",
       "    .dataframe thead th {\n",
       "        text-align: right;\n",
       "    }\n",
       "</style>\n",
       "<table border=\"1\" class=\"dataframe\">\n",
       "  <thead>\n",
       "    <tr style=\"text-align: right;\">\n",
       "      <th></th>\n",
       "      <th>Postalcode</th>\n",
       "      <th>Borough</th>\n",
       "      <th>Neighborhood</th>\n",
       "    </tr>\n",
       "  </thead>\n",
       "  <tbody>\n",
       "    <tr>\n",
       "      <th>0</th>\n",
       "      <td>M3A</td>\n",
       "      <td>North York</td>\n",
       "      <td>Parkwoods</td>\n",
       "    </tr>\n",
       "    <tr>\n",
       "      <th>1</th>\n",
       "      <td>M4A</td>\n",
       "      <td>North York</td>\n",
       "      <td>Victoria Village</td>\n",
       "    </tr>\n",
       "    <tr>\n",
       "      <th>2</th>\n",
       "      <td>M5A</td>\n",
       "      <td>Downtown Toronto</td>\n",
       "      <td>Harbourfront</td>\n",
       "    </tr>\n",
       "    <tr>\n",
       "      <th>3</th>\n",
       "      <td>M6A</td>\n",
       "      <td>North York</td>\n",
       "      <td>Lawrence Heights, Lawrence Manor</td>\n",
       "    </tr>\n",
       "    <tr>\n",
       "      <th>5</th>\n",
       "      <td>M7A</td>\n",
       "      <td>Queen's Park</td>\n",
       "      <td>Queen's Park</td>\n",
       "    </tr>\n",
       "    <tr>\n",
       "      <th>6</th>\n",
       "      <td>M9A</td>\n",
       "      <td>Downtown Toronto</td>\n",
       "      <td>Queen's Park</td>\n",
       "    </tr>\n",
       "    <tr>\n",
       "      <th>7</th>\n",
       "      <td>M1B</td>\n",
       "      <td>Scarborough</td>\n",
       "      <td>Rouge, Malvern</td>\n",
       "    </tr>\n",
       "    <tr>\n",
       "      <th>9</th>\n",
       "      <td>M3B</td>\n",
       "      <td>North York</td>\n",
       "      <td>Don Mills North</td>\n",
       "    </tr>\n",
       "    <tr>\n",
       "      <th>10</th>\n",
       "      <td>M4B</td>\n",
       "      <td>East York</td>\n",
       "      <td>Woodbine Gardens, Parkview Hill</td>\n",
       "    </tr>\n",
       "    <tr>\n",
       "      <th>12</th>\n",
       "      <td>M5B</td>\n",
       "      <td>Downtown Toronto</td>\n",
       "      <td>Ryerson, Garden District</td>\n",
       "    </tr>\n",
       "  </tbody>\n",
       "</table>\n",
       "</div>"
      ],
      "text/plain": [
       "   Postalcode           Borough                      Neighborhood\n",
       "0         M3A        North York                         Parkwoods\n",
       "1         M4A        North York                  Victoria Village\n",
       "2         M5A  Downtown Toronto                      Harbourfront\n",
       "3         M6A        North York  Lawrence Heights, Lawrence Manor\n",
       "5         M7A      Queen's Park                      Queen's Park\n",
       "6         M9A  Downtown Toronto                      Queen's Park\n",
       "7         M1B       Scarborough                    Rouge, Malvern\n",
       "9         M3B        North York                   Don Mills North\n",
       "10        M4B         East York   Woodbine Gardens, Parkview Hill\n",
       "12        M5B  Downtown Toronto          Ryerson, Garden District"
      ]
     },
     "execution_count": 11,
     "metadata": {},
     "output_type": "execute_result"
    }
   ],
   "source": [
    "# Merge cells having the same postal code\n",
    "temp = df.groupby('Postalcode')['Neighborhood'].apply(lambda x: \"%s\" % ', '.join(x))\n",
    "temp = temp.reset_index(drop=False)\n",
    "temp.rename(columns={'Neighborhood':'Neighborhood_joined'}, inplace=True)\n",
    "df_merge = pd.merge(df, temp, on='Postalcode')\n",
    "df_merge.drop(['Neighborhood'], axis=1, inplace=True)\n",
    "df_merge.drop_duplicates(inplace=True)\n",
    "df_merge.rename(columns={'Neighborhood_joined':'Neighborhood'}, inplace=True)\n",
    "df_merge.head(10)"
   ]
  },
  {
   "cell_type": "code",
   "execution_count": 12,
   "id": "c746296f",
   "metadata": {},
   "outputs": [
    {
     "data": {
      "text/plain": [
       "(103, 3)"
      ]
     },
     "execution_count": 12,
     "metadata": {},
     "output_type": "execute_result"
    }
   ],
   "source": [
    "df_merge.shape"
   ]
  }
 ],
 "metadata": {
  "kernelspec": {
   "display_name": "Python 3",
   "language": "python",
   "name": "python3"
  },
  "language_info": {
   "codemirror_mode": {
    "name": "ipython",
    "version": 3
   },
   "file_extension": ".py",
   "mimetype": "text/x-python",
   "name": "python",
   "nbconvert_exporter": "python",
   "pygments_lexer": "ipython3",
   "version": "3.8.8"
  }
 },
 "nbformat": 4,
 "nbformat_minor": 5
}
